{
  "nbformat": 4,
  "nbformat_minor": 0,
  "metadata": {
    "colab": {
      "provenance": [],
      "authorship_tag": "ABX9TyNGR83tm08yfDm544A3n8jA",
      "include_colab_link": true
    },
    "kernelspec": {
      "name": "python3",
      "display_name": "Python 3"
    },
    "language_info": {
      "name": "python"
    }
  },
  "cells": [
    {
      "cell_type": "markdown",
      "metadata": {
        "id": "view-in-github",
        "colab_type": "text"
      },
      "source": [
        "<a href=\"https://colab.research.google.com/github/Sahriar-47/it22047B51/blob/main/sahriar_it_47.ipynb\" target=\"_parent\"><img src=\"https://colab.research.google.com/assets/colab-badge.svg\" alt=\"Open In Colab\"/></a>"
      ]
    },
    {
      "cell_type": "markdown",
      "source": [
        "Python Math Modules:"
      ],
      "metadata": {
        "id": "-2E4nzAMUbQ3"
      }
    },
    {
      "cell_type": "code",
      "source": [
        "x = min(5, 10, 25)\n",
        "y = max(5, 10, 25)\n",
        "print(x)\n",
        "print(y)\n",
        "\n",
        "x = abs(-7.25)\n",
        "print(x)\n",
        "\n",
        "x = pow(4, 3)\n",
        "print(x)\n",
        "\n"
      ],
      "metadata": {
        "colab": {
          "base_uri": "https://localhost:8080/"
        },
        "id": "DiPyUEFCUiFh",
        "outputId": "af282790-09ee-40dc-ea60-7ff900fb2e91"
      },
      "execution_count": null,
      "outputs": [
        {
          "output_type": "stream",
          "name": "stdout",
          "text": [
            "5\n",
            "25\n",
            "7.25\n",
            "64\n"
          ]
        }
      ]
    },
    {
      "cell_type": "code",
      "source": [
        "import math\n",
        "x = math.sqrt(64)\n",
        "print(x)"
      ],
      "metadata": {
        "colab": {
          "base_uri": "https://localhost:8080/"
        },
        "id": "GBcD3CdZVJm2",
        "outputId": "01518716-00a6-428a-ca33-13512efcd52b"
      },
      "execution_count": null,
      "outputs": [
        {
          "output_type": "stream",
          "name": "stdout",
          "text": [
            "8.0\n"
          ]
        }
      ]
    },
    {
      "cell_type": "code",
      "source": [
        "x = math.ceil(1.4)\n",
        "y = math.floor(1.4)\n",
        "print(x)\n",
        "print(y)"
      ],
      "metadata": {
        "colab": {
          "base_uri": "https://localhost:8080/"
        },
        "id": "y8-GhugoVRco",
        "outputId": "74faea42-af9b-42a8-d867-80542711c6f0"
      },
      "execution_count": null,
      "outputs": [
        {
          "output_type": "stream",
          "name": "stdout",
          "text": [
            "2\n",
            "1\n"
          ]
        }
      ]
    },
    {
      "cell_type": "code",
      "source": [
        "import math\n",
        "\n",
        "x = math.pi\n",
        "print(x)"
      ],
      "metadata": {
        "colab": {
          "base_uri": "https://localhost:8080/"
        },
        "id": "D_Pg-ScJVXKY",
        "outputId": "970e7090-ea9c-44f5-f502-67b677a8f2f1"
      },
      "execution_count": null,
      "outputs": [
        {
          "output_type": "stream",
          "name": "stdout",
          "text": [
            "3.141592653589793\n"
          ]
        }
      ]
    },
    {
      "cell_type": "markdown",
      "source": [
        "Python Datetime:"
      ],
      "metadata": {
        "id": "rCoJsATxVcul"
      }
    },
    {
      "cell_type": "code",
      "source": [
        "import datetime\n",
        "\n",
        "x = datetime.datetime.now()\n",
        "print(x)"
      ],
      "metadata": {
        "colab": {
          "base_uri": "https://localhost:8080/"
        },
        "id": "WKn1mVrvVspD",
        "outputId": "b15869ca-ae67-41d4-bd2b-8b79dd681968"
      },
      "execution_count": null,
      "outputs": [
        {
          "output_type": "stream",
          "name": "stdout",
          "text": [
            "2025-01-05 12:02:31.290357\n"
          ]
        }
      ]
    },
    {
      "cell_type": "code",
      "source": [
        "import datetime\n",
        "\n",
        "x = datetime.datetime.now()\n",
        "\n",
        "print(x.year)\n",
        "print(x.strftime(\"%A\"))\n",
        "print(x.strftime(\"%a\"))"
      ],
      "metadata": {
        "colab": {
          "base_uri": "https://localhost:8080/"
        },
        "id": "MjPdqcUCVzJj",
        "outputId": "1509ec23-9511-460b-c736-9cce6e0b4350"
      },
      "execution_count": null,
      "outputs": [
        {
          "output_type": "stream",
          "name": "stdout",
          "text": [
            "2025\n",
            "Sunday\n",
            "Sun\n"
          ]
        }
      ]
    },
    {
      "cell_type": "code",
      "source": [
        "import datetime\n",
        "\n",
        "x = datetime.datetime(2020, 5, 17)\n",
        "\n",
        "print(x)"
      ],
      "metadata": {
        "colab": {
          "base_uri": "https://localhost:8080/"
        },
        "id": "yg8I4TLrWFr7",
        "outputId": "0ad99cb8-7b6f-4879-89c8-3f957ca48c36"
      },
      "execution_count": null,
      "outputs": [
        {
          "output_type": "stream",
          "name": "stdout",
          "text": [
            "2020-05-17 00:00:00\n"
          ]
        }
      ]
    },
    {
      "cell_type": "code",
      "source": [
        "import datetime\n",
        "\n",
        "x = datetime.datetime(2018, 12, 1)\n",
        "\n",
        "print(x.strftime(\"%B\"))\n",
        "print(x.strftime(\"%b\"))"
      ],
      "metadata": {
        "colab": {
          "base_uri": "https://localhost:8080/"
        },
        "id": "qIJ7v3g9WFh8",
        "outputId": "b14c7ff1-6eb3-40e0-e6c9-62382714e331"
      },
      "execution_count": null,
      "outputs": [
        {
          "output_type": "stream",
          "name": "stdout",
          "text": [
            "December\n",
            "Dec\n"
          ]
        }
      ]
    },
    {
      "cell_type": "markdown",
      "source": [
        "pi and e value up to given digits:"
      ],
      "metadata": {
        "id": "2F9MbNLtYXEH"
      }
    },
    {
      "cell_type": "code",
      "source": [
        "import math\n",
        "\n",
        "x = math.pi\n",
        "print(x)"
      ],
      "metadata": {
        "colab": {
          "base_uri": "https://localhost:8080/"
        },
        "id": "ktr0Xy-VdlA7",
        "outputId": "4187028c-2f1c-46d5-a775-4b9163d62628"
      },
      "execution_count": 32,
      "outputs": [
        {
          "output_type": "stream",
          "name": "stdout",
          "text": [
            "3.141592653589793\n"
          ]
        }
      ]
    },
    {
      "cell_type": "code",
      "source": [
        "from mpmath import mp\n",
        "\n",
        "def print_pi_value(n):\n",
        "    mp.dps = n + 1\n",
        "    return str(mp.pi)\n",
        "\n",
        "print_pi_value(100)"
      ],
      "metadata": {
        "id": "9kxnlQSgWFSH",
        "colab": {
          "base_uri": "https://localhost:8080/",
          "height": 36
        },
        "outputId": "a8079d31-523e-4807-d4dc-32d26b1c924e"
      },
      "execution_count": 38,
      "outputs": [
        {
          "output_type": "execute_result",
          "data": {
            "text/plain": [
              "'3.141592653589793238462643383279502884197169399375105820974944592307816406286208998628034825342117068'"
            ],
            "application/vnd.google.colaboratory.intrinsic+json": {
              "type": "string"
            }
          },
          "metadata": {},
          "execution_count": 38
        }
      ]
    },
    {
      "cell_type": "code",
      "source": [
        "import math\n",
        "\n",
        "x = math.e\n",
        "print(x)"
      ],
      "metadata": {
        "id": "v3uAh3ALWFEz",
        "colab": {
          "base_uri": "https://localhost:8080/"
        },
        "outputId": "340e9a08-5303-4da7-bd09-06b50295258e"
      },
      "execution_count": 33,
      "outputs": [
        {
          "output_type": "stream",
          "name": "stdout",
          "text": [
            "2.718281828459045\n"
          ]
        }
      ]
    },
    {
      "cell_type": "code",
      "source": [
        "import decimal\n",
        "\n",
        "def factorial(n):\n",
        "    result = 1\n",
        "    for i in range(1, n + 1):\n",
        "        result *= i\n",
        "    return result\n",
        "\n",
        "def compute_e(n):\n",
        "    \"\"\"Compute the value of e using the series expansion.\"\"\"\n",
        "    decimal.getcontext().prec = n + 2  # Set precision to n digits + 2 for safety\n",
        "    e = decimal.Decimal(0)\n",
        "    i = 0\n",
        "\n",
        "    while True:\n",
        "        term = decimal.Decimal(1) / decimal.Decimal(factorial(i))\n",
        "        if term < decimal.Decimal(10) ** -(n + 1):  # Stop when the term is too small to affect precision\n",
        "            break\n",
        "        e += term\n",
        "        i += 1\n",
        "\n",
        "    return e\n",
        "\n",
        "\n",
        "# Input validation for n\n",
        "while True:\n",
        "    try:\n",
        "        n = int(input(\"Enter the number of decimal places to compute e (e.g., 1000, 5000, etc.): \"))\n",
        "        if n > 0:\n",
        "            break\n",
        "        else:\n",
        "            print(\"Please enter a positive integer.\")\n",
        "    except ValueError:\n",
        "        print(\"Invalid input. Please enter an integer.\")\n",
        "\n",
        "# Compute and print e\n",
        "e_value = compute_e(n)\n",
        "print(f\"The value of e to {n} decimal places is:\")\n",
        "print(str(e_value)[:n + 2])  # Ensure the output is limited to n decimal places\n"
      ],
      "metadata": {
        "colab": {
          "base_uri": "https://localhost:8080/"
        },
        "id": "3YOztnMHd7eB",
        "outputId": "47f80c1d-6c0c-4520-8493-380fbbb033a6"
      },
      "execution_count": 37,
      "outputs": [
        {
          "output_type": "stream",
          "name": "stdout",
          "text": [
            "Enter the number of decimal places to compute e (e.g., 1000, 5000, etc.): 100\n",
            "The value of e to 100 decimal places is:\n",
            "2.7182818284590452353602874713526624977572470936999595749669676277240766303535475945713821785251664274\n"
          ]
        }
      ]
    }
  ]
}